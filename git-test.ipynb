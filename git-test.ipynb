{
 "cells": [
  {
   "cell_type": "code",
   "execution_count": 1,
   "metadata": {
    "collapsed": true
   },
   "outputs": [],
   "source": [
    "import os"
   ]
  },
  {
   "cell_type": "code",
   "execution_count": null,
   "metadata": {
    "collapsed": true
   },
   "outputs": [],
   "source": [
    "# hey there"
   ]
  },
  {
   "cell_type": "code",
   "execution_count": null,
   "metadata": {
    "collapsed": true
   },
   "outputs": [],
   "source": [
    "# This is a new line, "
   ]
  },
  {
   "cell_type": "code",
   "execution_count": null,
   "metadata": {
    "collapsed": true
   },
   "outputs": [],
   "source": [
    "#### Hope this fix commits it."
   ]
  },
  {
   "cell_type": "markdown",
   "metadata": {},
   "source": [
    "The output of this command didn't come here, it was simply displayed in the terminal.\n",
    "\n",
    "Here's a screenshot of the output.\n",
    "![Terminal](jupyter-sample.png)"
   ]
  },
  {
   "cell_type": "code",
   "execution_count": 3,
   "metadata": {},
   "outputs": [
    {
     "data": {
      "text/plain": [
       "0"
      ]
     },
     "execution_count": 3,
     "metadata": {},
     "output_type": "execute_result"
    }
   ],
   "source": [
    "os.system('ls -la')"
   ]
  },
  {
   "cell_type": "code",
   "execution_count": 4,
   "metadata": {},
   "outputs": [
    {
     "data": {
      "text/plain": [
       "'/home/harsh/code/py/play/git-shift'"
      ]
     },
     "execution_count": 4,
     "metadata": {},
     "output_type": "execute_result"
    }
   ],
   "source": [
    "os.getcwd()"
   ]
  },
  {
   "cell_type": "code",
   "execution_count": 5,
   "metadata": {},
   "outputs": [
    {
     "ename": "FileExistsError",
     "evalue": "[Errno 17] File exists: 'dummy'",
     "output_type": "error",
     "traceback": [
      "\u001b[0;31m---------------------------------------------------------------------------\u001b[0m",
      "\u001b[0;31mFileExistsError\u001b[0m                           Traceback (most recent call last)",
      "\u001b[0;32m<ipython-input-5-a957ce27ba72>\u001b[0m in \u001b[0;36m<module>\u001b[0;34m()\u001b[0m\n\u001b[0;32m----> 1\u001b[0;31m \u001b[0mos\u001b[0m\u001b[0;34m.\u001b[0m\u001b[0mmakedirs\u001b[0m\u001b[0;34m(\u001b[0m\u001b[0;34m'dummy'\u001b[0m\u001b[0;34m)\u001b[0m\u001b[0;34m\u001b[0m\u001b[0m\n\u001b[0m",
      "\u001b[0;32m/home/harsh/bin/anaconda3/lib/python3.6/os.py\u001b[0m in \u001b[0;36mmakedirs\u001b[0;34m(name, mode, exist_ok)\u001b[0m\n\u001b[1;32m    218\u001b[0m             \u001b[0;32mreturn\u001b[0m\u001b[0;34m\u001b[0m\u001b[0m\n\u001b[1;32m    219\u001b[0m     \u001b[0;32mtry\u001b[0m\u001b[0;34m:\u001b[0m\u001b[0;34m\u001b[0m\u001b[0m\n\u001b[0;32m--> 220\u001b[0;31m         \u001b[0mmkdir\u001b[0m\u001b[0;34m(\u001b[0m\u001b[0mname\u001b[0m\u001b[0;34m,\u001b[0m \u001b[0mmode\u001b[0m\u001b[0;34m)\u001b[0m\u001b[0;34m\u001b[0m\u001b[0m\n\u001b[0m\u001b[1;32m    221\u001b[0m     \u001b[0;32mexcept\u001b[0m \u001b[0mOSError\u001b[0m\u001b[0;34m:\u001b[0m\u001b[0;34m\u001b[0m\u001b[0m\n\u001b[1;32m    222\u001b[0m         \u001b[0;31m# Cannot rely on checking for EEXIST, since the operating system\u001b[0m\u001b[0;34m\u001b[0m\u001b[0;34m\u001b[0m\u001b[0m\n",
      "\u001b[0;31mFileExistsError\u001b[0m: [Errno 17] File exists: 'dummy'"
     ]
    }
   ],
   "source": [
    "os.makedirs('dummy') # It was already created when I had run the kernel earlier."
   ]
  },
  {
   "cell_type": "code",
   "execution_count": 6,
   "metadata": {},
   "outputs": [
    {
     "data": {
      "text/plain": [
       "['README.md',\n",
       " 'dummy',\n",
       " '.git',\n",
       " 'git.py',\n",
       " '__pycache__',\n",
       " '.ipynb_checkpoints',\n",
       " '.gitignore',\n",
       " 'git-test.ipynb']"
      ]
     },
     "execution_count": 6,
     "metadata": {},
     "output_type": "execute_result"
    }
   ],
   "source": [
    "os.listdir()"
   ]
  },
  {
   "cell_type": "code",
   "execution_count": 7,
   "metadata": {
    "collapsed": true
   },
   "outputs": [],
   "source": [
    "import git"
   ]
  },
  {
   "cell_type": "code",
   "execution_count": 8,
   "metadata": {
    "collapsed": true
   },
   "outputs": [],
   "source": [
    "os.makedirs('does-not-exist')"
   ]
  },
  {
   "cell_type": "code",
   "execution_count": 9,
   "metadata": {},
   "outputs": [
    {
     "data": {
      "text/plain": [
       "['README.md',\n",
       " 'dummy',\n",
       " '.git',\n",
       " 'git.py',\n",
       " 'does-not-exist',\n",
       " '__pycache__',\n",
       " '.ipynb_checkpoints',\n",
       " '.gitignore',\n",
       " 'git-test.ipynb']"
      ]
     },
     "execution_count": 9,
     "metadata": {},
     "output_type": "execute_result"
    }
   ],
   "source": [
    "os.listdir()"
   ]
  },
  {
   "cell_type": "code",
   "execution_count": 11,
   "metadata": {},
   "outputs": [
    {
     "data": {
      "text/plain": [
       "0"
      ]
     },
     "execution_count": 11,
     "metadata": {},
     "output_type": "execute_result"
    }
   ],
   "source": [
    "os.system('xfce4-terminal')"
   ]
  },
  {
   "cell_type": "markdown",
   "metadata": {},
   "source": [
    "It looks like shell commands do get executed.\n",
    "\n",
    "</br>\n",
    "![Screenshot](commands-get-executed.png)"
   ]
  },
  {
   "cell_type": "code",
   "execution_count": 12,
   "metadata": {},
   "outputs": [
    {
     "name": "stdout",
     "output_type": "stream",
     "text": [
      "total 420\r\n",
      "drwxrwxr-x 7 harsh harsh   4096 Jun 23 15:49 .\r\n",
      "drwxrwxr-x 6 harsh harsh   4096 Jun 22 17:25 ..\r\n",
      "-rw-rw-r-- 1 harsh harsh  71877 Jun 23 15:47 commands-get-executed.png\r\n",
      "drwxrwxr-x 2 harsh harsh   4096 Jun 23 14:05 does-not-exist\r\n",
      "drwxrwxr-x 2 harsh harsh   4096 Jun 23 13:56 dummy\r\n",
      "drwxrwxr-x 8 harsh harsh   4096 Jun 23 11:39 .git\r\n",
      "-rw-rw-r-- 1 harsh harsh     19 Jun 23 11:36 .gitignore\r\n",
      "-rwxrwxr-x 1 harsh harsh   1561 Jun 20 16:10 git.py\r\n",
      "-rw-rw-r-- 1 harsh harsh   5677 Jun 23 15:49 git-test.ipynb\r\n",
      "drwxr-xr-x 2 harsh harsh   4096 Jun 23 13:58 .ipynb_checkpoints\r\n",
      "-rw-rw-r-- 1 harsh harsh 257975 Jun 23 14:25 jupyter-sample.png\r\n",
      "drwxrwxr-x 2 harsh harsh   4096 Jun 23 13:56 __pycache__\r\n",
      "-rw-rw-r-- 1 harsh harsh    442 Jun 20 13:52 README.md\r\n"
     ]
    }
   ],
   "source": [
    "!ls -la\n",
    "# This is the proper way to execute shell commands."
   ]
  },
  {
   "cell_type": "code",
   "execution_count": 14,
   "metadata": {},
   "outputs": [
    {
     "name": "stderr",
     "output_type": "stream",
     "text": [
      "ERROR:root:Line magic function `%jupyter` not found.\n"
     ]
    }
   ],
   "source": [
    "% jupyter nbextension list"
   ]
  },
  {
   "cell_type": "code",
   "execution_count": 15,
   "metadata": {},
   "outputs": [
    {
     "name": "stdout",
     "output_type": "stream",
     "text": [
      "Known nbextensions:\n",
      "  config dir: /home/harsh/.jupyter/nbconfig\n",
      "    notebook section\n",
      "      nbextensions_configurator/config_menu/main \u001b[32m enabled \u001b[0m\n",
      "      - Validating: problems found:\n",
      "        - require? \u001b[31m X\u001b[0m nbextensions_configurator/config_menu/main\n",
      "      contrib_nbextensions_help_item/main \u001b[32m enabled \u001b[0m\n",
      "      - Validating: problems found:\n",
      "        - require? \u001b[31m X\u001b[0m contrib_nbextensions_help_item/main\n",
      "      gist_it/main \u001b[32m enabled \u001b[0m\n",
      "      - Validating: problems found:\n",
      "        - require? \u001b[31m X\u001b[0m gist_it/main\n"
     ]
    }
   ],
   "source": [
    "!jupyter nbextension list"
   ]
  },
  {
   "cell_type": "code",
   "execution_count": null,
   "metadata": {
    "collapsed": true
   },
   "outputs": [],
   "source": [
    "# ls -la\n"
   ]
  },
  {
   "cell_type": "code",
   "execution_count": 1,
   "metadata": {},
   "outputs": [
    {
     "name": "stdout",
     "output_type": "stream",
     "text": [
      "total 100\r\n",
      "drwxrwxr-x 4 harsh harsh  4096 Jun 28 11:48 .\r\n",
      "drwxrwxr-x 3 harsh harsh  4096 Jun 28 11:19 ..\r\n",
      "-rw-rw-r-- 1 harsh harsh 23414 Jun 28 11:47 1.py\r\n",
      "drwxrwxr-x 8 harsh harsh  4096 Jun 28 11:44 .git\r\n",
      "-rw-rw-r-- 1 harsh harsh    19 Jun 28 11:19 .gitignore\r\n",
      "-rwxrwxr-x 1 harsh harsh  1561 Jun 28 11:19 git.py\r\n",
      "-rw-rw-r-- 1 harsh harsh  8077 Jun 28 11:36 git-test.ipynb\r\n",
      "drwxr-xr-x 2 harsh harsh  4096 Jun 28 11:36 .ipynb_checkpoints\r\n",
      "-rw-rw-r-- 1 harsh harsh   442 Jun 28 11:19 README.md\r\n"
     ]
    }
   ],
   "source": [
    "!ls -la"
   ]
  }
 ],
 "metadata": {
  "kernelspec": {
   "display_name": "Python 3",
   "language": "python",
   "name": "python3"
  },
  "language_info": {
   "codemirror_mode": {
    "name": "ipython",
    "version": 3
   },
   "file_extension": ".py",
   "mimetype": "text/x-python",
   "name": "python",
   "nbconvert_exporter": "python",
   "pygments_lexer": "ipython3",
   "version": "3.6.1"
  }
 },
 "nbformat": 4,
 "nbformat_minor": 2
}
